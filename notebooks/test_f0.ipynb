{
 "cells": [
  {
   "cell_type": "code",
   "execution_count": 1,
   "metadata": {},
   "outputs": [],
   "source": [
    "import torch"
   ]
  },
  {
   "cell_type": "code",
   "execution_count": 4,
   "metadata": {},
   "outputs": [],
   "source": [
    "f0_estimates = torch.load(\"/home/ids/chouteau/umss/Datasets/BC/mixtures_4_sources/mf0_cuesta_processed/1_BC001_part1_satb.pt\")\n",
    "# f0_estimates_test = torch.load(\"/home/pchouteau/umss/archive/Datasets/BC/mixtures_tests/mf0_cuesta_processed/1_BC001_part13_satb.pt\")\n",
    "\n",
    "# torch.min(f0_estimates - f0_estimates_test, dim=0)"
   ]
  },
  {
   "cell_type": "code",
   "execution_count": 7,
   "metadata": {},
   "outputs": [
    {
     "data": {
      "text/plain": [
       "(tensor([[  0.0000, 369.2240, 280.3759, 240.7990],\n",
       "         [  0.0000, 365.7089, 280.3759, 238.5066],\n",
       "         [  0.0000, 361.8109, 283.3992, 241.0784],\n",
       "         [  0.0000, 361.5084, 283.6338, 242.1347],\n",
       "         [  0.0000, 361.5084, 285.8853, 244.0814],\n",
       "         [  0.0000, 365.7089, 286.9294, 246.9175],\n",
       "         [  0.0000, 365.7089, 286.9294, 246.9175],\n",
       "         [  0.0000, 365.7089, 286.9294, 246.9175],\n",
       "         [492.7370, 366.5315, 286.2914, 246.9175],\n",
       "         [488.1629, 369.9583, 283.6338, 245.2976]]),\n",
       " tensor([[537.4304, 365.7089, 241.2779, 178.6781],\n",
       "         [  0.0000,   0.0000,   0.0000,   0.0000],\n",
       "         [  0.0000,   0.0000,   0.0000,   0.0000],\n",
       "         [  0.0000,   0.0000,   0.0000,   0.0000]]))"
      ]
     },
     "execution_count": 7,
     "metadata": {},
     "output_type": "execute_result"
    }
   ],
   "source": [
    "f0_estimates[90:100], f0_estimates[-4:]"
   ]
  },
  {
   "cell_type": "code",
   "execution_count": 98,
   "metadata": {},
   "outputs": [
    {
     "data": {
      "text/plain": [
       "(tensor([[488.1629,   0.0000, 329.5953, 180.3622],\n",
       "         [488.1629, 166.0709, 333.9589, 178.6781],\n",
       "         [488.1629,   0.0000, 333.6420, 180.6380]]),\n",
       " tensor([[558.6802, 365.7089, 240.3865, 180.7542],\n",
       "         [560.7519, 365.7089, 238.3533, 180.8718],\n",
       "         [560.7519, 365.7089, 235.7671, 182.8545],\n",
       "         [566.0371,   0.0000, 235.7671, 182.8545]]))"
      ]
     },
     "execution_count": 98,
     "metadata": {},
     "output_type": "execute_result"
    }
   ],
   "source": [
    "f0_estimates_test[0:3], f0_estimates_test[-4:]"
   ]
  },
  {
   "cell_type": "code",
   "execution_count": 8,
   "metadata": {},
   "outputs": [
    {
     "data": {
      "text/plain": [
       "tensor([0., 0., 0., 0.])"
      ]
     },
     "execution_count": 8,
     "metadata": {},
     "output_type": "execute_result"
    }
   ],
   "source": [
    "ind = 50\n",
    "\n",
    "f0_estimates_test[ind]"
   ]
  },
  {
   "cell_type": "code",
   "execution_count": 9,
   "metadata": {},
   "outputs": [
    {
     "data": {
      "text/plain": [
       "torch.Size([625, 4])"
      ]
     },
     "execution_count": 9,
     "metadata": {},
     "output_type": "execute_result"
    }
   ],
   "source": [
    "f0_estimates_test.shape"
   ]
  },
  {
   "cell_type": "code",
   "execution_count": null,
   "metadata": {},
   "outputs": [],
   "source": []
  }
 ],
 "metadata": {
  "kernelspec": {
   "display_name": "umss",
   "language": "python",
   "name": "python3"
  },
  "language_info": {
   "codemirror_mode": {
    "name": "ipython",
    "version": 3
   },
   "file_extension": ".py",
   "mimetype": "text/x-python",
   "name": "python",
   "nbconvert_exporter": "python",
   "pygments_lexer": "ipython3",
   "version": "3.8.16"
  },
  "orig_nbformat": 4
 },
 "nbformat": 4,
 "nbformat_minor": 2
}
