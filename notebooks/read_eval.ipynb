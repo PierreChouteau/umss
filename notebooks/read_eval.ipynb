{
 "cells": [
  {
   "cell_type": "code",
   "execution_count": 2,
   "metadata": {},
   "outputs": [],
   "source": [
    "import pandas as pd"
   ]
  },
  {
   "cell_type": "code",
   "execution_count": 27,
   "metadata": {},
   "outputs": [],
   "source": [
    "# Code permettant de produire le fichier csv contenant les données d'évaluation à enlever (considéré comme des silences)\n",
    "\n",
    "import data\n",
    "import torch\n",
    "import numpy as np\n",
    "\n",
    "\n",
    "energy_2s = {'mix_name': [], 'voices': [], 'eval_frame': [], 'energy': []}\n",
    "\n",
    "el_rossinyol = data.CSD(song_name='El Rossinyol', example_length=64000, allowed_voices='satb',\n",
    "                        return_name=True, n_sources=2, singer_nb=[2], random_mixes=False,\n",
    "                        f0_from_mix=True, cunet_original=False)\n",
    "\n",
    "locus_iste = data.CSD(song_name='Locus Iste', example_length=64000, allowed_voices='satb',\n",
    "                        return_name=True, n_sources=2, singer_nb=[3], random_mixes=False,\n",
    "                        f0_from_mix=True, cunet_original=False)\n",
    "\n",
    "nino_dios = data.CSD(song_name='Nino Dios', example_length=64000, allowed_voices='satb',\n",
    "                    return_name=True, n_sources=2, singer_nb=[4], random_mixes=False,\n",
    "                    f0_from_mix=True, cunet_original=False)\n",
    "\n",
    "test_set = torch.utils.data.ConcatDataset([el_rossinyol, locus_iste, nino_dios])\n",
    "\n",
    "device = 'cuda' if torch.cuda.is_available() else 'cpu'\n",
    "\n",
    "energy_total = []\n",
    "for idx in range(len(test_set)):\n",
    "    # Load batch of 4 1-second frames\n",
    "    d = test_set[idx]\n",
    "\n",
    "    mix = d[0].to(device)\n",
    "    f0_hz = d[1].to(device)\n",
    "    target_sources = d[2].to(device)\n",
    "    name = d[3]\n",
    "    voices = d[4]\n",
    "\n",
    "    mix = mix.unsqueeze(0)\n",
    "    target_sources = target_sources.unsqueeze(0)\n",
    "    f0_hz = f0_hz[None, :, :]\n",
    "\n",
    "    batch_size, n_samples, n_sources = target_sources.shape\n",
    "\n",
    "    n_fft_metrics = 512\n",
    "    overlap_metrics = 0.5\n",
    "    \n",
    "\n",
    "    target_sources = target_sources.transpose(1, 2)  # [batch_size, n_sources, n_samples]\n",
    "    target_sources = target_sources.reshape((batch_size * n_sources, n_samples))\n",
    "    \n",
    "    n_source, n_samples = target_sources.shape\n",
    "    n_eval_frames = int(np.ceil(n_samples / 16000))\n",
    "    \n",
    "    energy_batch = []\n",
    "    for source in range(n_source):\n",
    "        for n in range(n_eval_frames):\n",
    "            energy_2s['mix_name'].append(name)\n",
    "            energy_2s['voices'].append(voices[source])\n",
    "            energy_2s['eval_frame'].append(n)\n",
    "            energy_2s['energy'].append(torch.sum(torch.square(target_sources[source, n*16000: (n+1)*16000])).cpu().numpy() / 2.8767)"
   ]
  },
  {
   "cell_type": "code",
   "execution_count": null,
   "metadata": {},
   "outputs": [],
   "source": [
    "# Code permettant de produire le fichier csv contenant les données d'évaluation à enlever (considéré comme des silences)\n",
    "# Utilise le fichier \"energy_snippets_4s.pandas\"\n",
    "# nécessite de changer data.py, la classe CSD afin de renvoyer audio_start_time et song_name.\n",
    "\n",
    "import data\n",
    "import torch\n",
    "import numpy as np\n",
    "\n",
    "energy_snippet_4s = pd.read_pickle('./Datasets/ChoralSingingDataset/energy_snippets_4s.pandas')\n",
    "\n",
    "energy_2s = {'mix_name': [], 'voices': [], 'eval_frame': [], 'energy': []}\n",
    "\n",
    "el_rossinyol = data.CSD(song_name='El Rossinyol', example_length=64000, allowed_voices='satb',\n",
    "                        return_name=True, n_sources=2, singer_nb=[2], random_mixes=False,\n",
    "                        f0_from_mix=True, cunet_original=False)\n",
    "\n",
    "locus_iste = data.CSD(song_name='Locus Iste', example_length=64000, allowed_voices='satb',\n",
    "                        return_name=True, n_sources=2, singer_nb=[3], random_mixes=False,\n",
    "                        f0_from_mix=True, cunet_original=False)\n",
    "\n",
    "nino_dios = data.CSD(song_name='Nino Dios', example_length=64000, allowed_voices='satb',\n",
    "                    return_name=True, n_sources=2, singer_nb=[4], random_mixes=False,\n",
    "                    f0_from_mix=True, cunet_original=False)\n",
    "\n",
    "test_set = torch.utils.data.ConcatDataset([el_rossinyol, locus_iste, nino_dios])\n",
    "\n",
    "device = 'cuda' if torch.cuda.is_available() else 'cpu'\n",
    "\n",
    "energy_total = []\n",
    "for idx in range(len(test_set)):\n",
    "    # Load batch of 4 1-second frames\n",
    "    d = test_set[idx]\n",
    "\n",
    "    mix = d[0].to(device)\n",
    "    f0_hz = d[1].to(device)\n",
    "    target_sources = d[2].to(device)\n",
    "    name = d[3]\n",
    "    audio_start_time = d[4]\n",
    "    song_name = d[5]\n",
    "    voices = d[6]\n",
    "\n",
    "    mix = mix.unsqueeze(0)\n",
    "    target_sources = target_sources.unsqueeze(0)\n",
    "    f0_hz = f0_hz[None, :, :]\n",
    "\n",
    "    batch_size, n_samples, n_sources = target_sources.shape\n",
    "\n",
    "    n_fft_metrics = 512\n",
    "    overlap_metrics = 0.5\n",
    "    \n",
    "\n",
    "    target_sources = target_sources.transpose(1, 2)  # [batch_size, n_sources, n_samples]\n",
    "    target_sources = target_sources.reshape((batch_size * n_sources, n_samples))\n",
    "    \n",
    "    n_source, n_samples = target_sources.shape\n",
    "    n_eval_frames = int(np.ceil(n_samples / 16000))\n",
    "    \n",
    "    energy_batch = []\n",
    "    for source in range(n_source):\n",
    "        for n in range(n_eval_frames):\n",
    "            energy_2s['mix_name'].append(name)\n",
    "            energy_2s['voices'].append(voices[source])\n",
    "            energy_2s['eval_frame'].append(n)\n",
    "            # energy_2s['energy'].append(torch.sum(torch.square(target_sources[source, n*16000: (n+1)*16000])).cpu().numpy() / 2.8767)\n",
    "            energy_snippet_4s['energy'][ (energy_snippet_4s['eval_frame'] == n) &  (energy_snippet_4s['song_name'] == song_name) & (energy_snippet_4s['start_time'] == audio_start_time) & (energy_snippet_4s['voice'] == voices[n_source])]"
   ]
  },
  {
   "cell_type": "code",
   "execution_count": 28,
   "metadata": {},
   "outputs": [
    {
     "data": {
      "text/html": [
       "<div>\n",
       "<style scoped>\n",
       "    .dataframe tbody tr th:only-of-type {\n",
       "        vertical-align: middle;\n",
       "    }\n",
       "\n",
       "    .dataframe tbody tr th {\n",
       "        vertical-align: top;\n",
       "    }\n",
       "\n",
       "    .dataframe thead th {\n",
       "        text-align: right;\n",
       "    }\n",
       "</style>\n",
       "<table border=\"1\" class=\"dataframe\">\n",
       "  <thead>\n",
       "    <tr style=\"text-align: right;\">\n",
       "      <th></th>\n",
       "      <th>mix_name</th>\n",
       "      <th>voices</th>\n",
       "      <th>eval_frame</th>\n",
       "      <th>energy</th>\n",
       "    </tr>\n",
       "  </thead>\n",
       "  <tbody>\n",
       "    <tr>\n",
       "      <th>0</th>\n",
       "      <td>el_rossinyol_Sno_208_At_2-06_3.984</td>\n",
       "      <td>s</td>\n",
       "      <td>0</td>\n",
       "      <td>69.938705</td>\n",
       "    </tr>\n",
       "    <tr>\n",
       "      <th>1</th>\n",
       "      <td>el_rossinyol_Sno_208_At_2-06_3.984</td>\n",
       "      <td>s</td>\n",
       "      <td>1</td>\n",
       "      <td>91.915268</td>\n",
       "    </tr>\n",
       "    <tr>\n",
       "      <th>2</th>\n",
       "      <td>el_rossinyol_Sno_208_At_2-06_3.984</td>\n",
       "      <td>s</td>\n",
       "      <td>2</td>\n",
       "      <td>55.305416</td>\n",
       "    </tr>\n",
       "    <tr>\n",
       "      <th>3</th>\n",
       "      <td>el_rossinyol_Sno_208_At_2-06_3.984</td>\n",
       "      <td>s</td>\n",
       "      <td>3</td>\n",
       "      <td>190.038635</td>\n",
       "    </tr>\n",
       "    <tr>\n",
       "      <th>4</th>\n",
       "      <td>el_rossinyol_Sno_208_At_2-06_3.984</td>\n",
       "      <td>a</td>\n",
       "      <td>0</td>\n",
       "      <td>81.653374</td>\n",
       "    </tr>\n",
       "    <tr>\n",
       "      <th>...</th>\n",
       "      <td>...</td>\n",
       "      <td>...</td>\n",
       "      <td>...</td>\n",
       "      <td>...</td>\n",
       "    </tr>\n",
       "    <tr>\n",
       "      <th>4891</th>\n",
       "      <td>nino_dios_t4-06-2_Bos_404_95.984</td>\n",
       "      <td>t</td>\n",
       "      <td>3</td>\n",
       "      <td>205.545517</td>\n",
       "    </tr>\n",
       "    <tr>\n",
       "      <th>4892</th>\n",
       "      <td>nino_dios_t4-06-2_Bos_404_95.984</td>\n",
       "      <td>b</td>\n",
       "      <td>0</td>\n",
       "      <td>88.376427</td>\n",
       "    </tr>\n",
       "    <tr>\n",
       "      <th>4893</th>\n",
       "      <td>nino_dios_t4-06-2_Bos_404_95.984</td>\n",
       "      <td>b</td>\n",
       "      <td>1</td>\n",
       "      <td>81.060524</td>\n",
       "    </tr>\n",
       "    <tr>\n",
       "      <th>4894</th>\n",
       "      <td>nino_dios_t4-06-2_Bos_404_95.984</td>\n",
       "      <td>b</td>\n",
       "      <td>2</td>\n",
       "      <td>47.207012</td>\n",
       "    </tr>\n",
       "    <tr>\n",
       "      <th>4895</th>\n",
       "      <td>nino_dios_t4-06-2_Bos_404_95.984</td>\n",
       "      <td>b</td>\n",
       "      <td>3</td>\n",
       "      <td>18.610920</td>\n",
       "    </tr>\n",
       "  </tbody>\n",
       "</table>\n",
       "<p>4896 rows × 4 columns</p>\n",
       "</div>"
      ],
      "text/plain": [
       "                                mix_name voices  eval_frame      energy\n",
       "0     el_rossinyol_Sno_208_At_2-06_3.984      s           0   69.938705\n",
       "1     el_rossinyol_Sno_208_At_2-06_3.984      s           1   91.915268\n",
       "2     el_rossinyol_Sno_208_At_2-06_3.984      s           2   55.305416\n",
       "3     el_rossinyol_Sno_208_At_2-06_3.984      s           3  190.038635\n",
       "4     el_rossinyol_Sno_208_At_2-06_3.984      a           0   81.653374\n",
       "...                                  ...    ...         ...         ...\n",
       "4891    nino_dios_t4-06-2_Bos_404_95.984      t           3  205.545517\n",
       "4892    nino_dios_t4-06-2_Bos_404_95.984      b           0   88.376427\n",
       "4893    nino_dios_t4-06-2_Bos_404_95.984      b           1   81.060524\n",
       "4894    nino_dios_t4-06-2_Bos_404_95.984      b           2   47.207012\n",
       "4895    nino_dios_t4-06-2_Bos_404_95.984      b           3   18.610920\n",
       "\n",
       "[4896 rows x 4 columns]"
      ]
     },
     "execution_count": 28,
     "metadata": {},
     "output_type": "execute_result"
    }
   ],
   "source": [
    "energy_2s = pd.DataFrame(energy_2s)\n",
    "energy_2s"
   ]
  },
  {
   "cell_type": "code",
   "execution_count": 30,
   "metadata": {},
   "outputs": [],
   "source": [
    "energy_2s.to_pickle(\"./Datasets/ChoralSingingDataset/\" + '/energy_snippets_2s.pandas')"
   ]
  },
  {
   "attachments": {},
   "cell_type": "markdown",
   "metadata": {},
   "source": [
    "### Eval Model with MIR metrics"
   ]
  },
  {
   "cell_type": "code",
   "execution_count": null,
   "metadata": {},
   "outputs": [],
   "source": [
    "df_pierre = pd.read_pickle('./umss/evaluation/unsupervised_4s_satb_bcbq_mf0_1_again_masking/eval_results_mf0_CSD_cuda/all_results.pandas')"
   ]
  },
  {
   "cell_type": "code",
   "execution_count": null,
   "metadata": {},
   "outputs": [],
   "source": [
    "df_pierre = pd.read_pickle('./umss/evaluation/unsupervised_4s_satb_bcbq_mf0_1_again_masking/eval_results_mf0_CSD_cuda/all_results.pandas')\n",
    "\n",
    "# drop des signaux avec une énergie trop faible\n",
    "energy_snippet = pd.read_pickle('./umss/Datasets/ChoralSingingDataset/energy_snippets.pandas')\n",
    "energy_to_drop = []\n",
    "for i, energy in enumerate(energy_snippet[\"energy\"]):\n",
    "    if energy < 10:\n",
    "        for j in range(1):\n",
    "            energy_to_drop.append(i + j * 1632)\n",
    "            \n",
    "df_result = df_pierre.drop(energy_to_drop)"
   ]
  },
  {
   "cell_type": "code",
   "execution_count": null,
   "metadata": {},
   "outputs": [],
   "source": [
    "means = df_result.mean(axis=0, skipna=True, numeric_only=True)\n",
    "medians = df_result.median(axis=0, skipna=True, numeric_only=True)\n",
    "stds = df_result.std(axis=0, skipna=True, numeric_only=True)"
   ]
  },
  {
   "cell_type": "code",
   "execution_count": null,
   "metadata": {},
   "outputs": [],
   "source": [
    "print('SI-SDR [mean, median, std]:', means['SI-SDR'], medians['SI-SDR'], stds['SI-SDR'])\n",
    "print('sp_SNR [mean, median, std]:', means['sp_SNR'], medians['sp_SNR'], stds['sp_SNR'])\n",
    "print('sp_SI-SNR [mean, median, std]:', means['sp_SI-SNR'], medians['sp_SI-SNR'], stds['sp_SI-SNR'])\n",
    "print('mel_cep_dist [mean, median, std]:', means['mel_cep_dist'], medians['mel_cep_dist'], stds['mel_cep_dist'])"
   ]
  },
  {
   "attachments": {},
   "cell_type": "markdown",
   "metadata": {},
   "source": [
    "### Eval Robustness of Model"
   ]
  },
  {
   "cell_type": "code",
   "execution_count": 3,
   "metadata": {},
   "outputs": [],
   "source": [
    "df = pd.read_pickle('/home/ids/chouteau/umss/evaluation/2s_CuestaInTrained_Fix_HCQT_Torch_bc1song_again_new_assignement_masking/eval_results_mf0_CSD_cuda/all_results.pandas')"
   ]
  },
  {
   "cell_type": "code",
   "execution_count": 4,
   "metadata": {},
   "outputs": [
    {
     "name": "stdout",
     "output_type": "stream",
     "text": [
      "eval_seed        2.000000\n",
      "eval_frame       1.509642\n",
      "sp_SNR          15.232910\n",
      "sp_SI-SNR       15.488824\n",
      "SI-SDR          13.502447\n",
      "mel_cep_dist    13.971754\n",
      "dtype: float64\n"
     ]
    }
   ],
   "source": [
    "means = df.mean(axis=0, skipna=True, numeric_only=True)\n",
    "print(means)"
   ]
  },
  {
   "attachments": {},
   "cell_type": "markdown",
   "metadata": {},
   "source": [
    "### Energy_test"
   ]
  },
  {
   "cell_type": "code",
   "execution_count": null,
   "metadata": {},
   "outputs": [],
   "source": [
    "energy_snippet = pd.read_pickle('/home/pchouteau/umss/umss/energy_test_snippets.pandas')\n",
    "\n",
    "energy_to_drop = []\n",
    "for i, energy in enumerate(df[\"energy\"]):\n",
    "    if energy < 10:\n",
    "        for j in range(5):\n",
    "            energy_to_drop.append(i + j * 1632)\n",
    "            \n",
    "df_final = df_pierre.drop(energy_to_drop)"
   ]
  },
  {
   "cell_type": "code",
   "execution_count": null,
   "metadata": {},
   "outputs": [],
   "source": [
    "means = df_final.mean(axis=0, skipna=True, numeric_only=True)\n",
    "medians = df_final.median(axis=0, skipna=True, numeric_only=True)\n",
    "stds = df_final.std(axis=0, skipna=True, numeric_only=True)\n",
    "\n",
    "print('SI-SDR [mean, median, std]:', means['SI-SDR'], medians['SI-SDR'], stds['SI-SDR'])\n",
    "print('sp_SNR [mean, median, std]:', means['sp_SNR'], medians['sp_SNR'], stds['sp_SNR'])\n",
    "print('sp_SI-SNR [mean, median, std]:', means['sp_SI-SNR'], medians['sp_SI-SNR'], stds['sp_SI-SNR'])\n",
    "print('mel_cep_dist [mean, median, std]:', means['mel_cep_dist'], medians['mel_cep_dist'], stds['mel_cep_dist'])"
   ]
  },
  {
   "cell_type": "code",
   "execution_count": null,
   "metadata": {},
   "outputs": [],
   "source": []
  }
 ],
 "metadata": {
  "kernelspec": {
   "display_name": "umss",
   "language": "python",
   "name": "python3"
  },
  "language_info": {
   "codemirror_mode": {
    "name": "ipython",
    "version": 3
   },
   "file_extension": ".py",
   "mimetype": "text/x-python",
   "name": "python",
   "nbconvert_exporter": "python",
   "pygments_lexer": "ipython3",
   "version": "3.8.16"
  },
  "orig_nbformat": 4
 },
 "nbformat": 4,
 "nbformat_minor": 2
}
