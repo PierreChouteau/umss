{
 "cells": [
  {
   "attachments": {},
   "cell_type": "markdown",
   "metadata": {},
   "source": [
    "### Crepe the files we want"
   ]
  },
  {
   "cell_type": "code",
   "execution_count": null,
   "metadata": {},
   "outputs": [],
   "source": [
    "'''This function uses CREPE to individually evaluate pitch for each of the voices commonly used during evaluations.'''\n",
    "\n",
    "import os\n",
    "\n",
    "tags = [\n",
    "    'El_Rossinyol/audio_16kHz/rossinyol_Bajos_207.wav',\n",
    "\t'El_Rossinyol/audio_16kHz/rossinyol_ContraAlt_2-06.wav',\n",
    "\t'El_Rossinyol/audio_16kHz/rossinyol_Soprano_208.wav',\n",
    "\t'El_Rossinyol/audio_16kHz/rossinyol_Tenor2-09.wav',\n",
    "    'Locus_Iste/audio_16kHz/locus_Bajos_3-02.wav',\n",
    "\t'Locus_Iste/audio_16kHz/locus_ContraAlt_301.wav',\n",
    "\t'Locus_Iste/audio_16kHz/locus_Soprano_310.wav',\n",
    "\t'Locus_Iste/audio_16kHz/locus_tenor3-01-2.wav',\n",
    "    'Nino_Dios/audio_16kHz/nino_Bajos_404.wav',\n",
    "\t'Nino_Dios/audio_16kHz/nino_ContraAlt_407.wav',\n",
    "\t'Nino_Dios/audio_16kHz/nino_Soprano_405.wav',\n",
    "\t'Nino_Dios/audio_16kHz/nino_tenor4-06-2.wav',\n",
    "        ]\n",
    "\n",
    "for tag in tags:\n",
    "\tprint(\"crepe ../../Dataset/ChoralSingingDataset/{} --step-size 16\".format(tag))\n",
    "\tos.system(\"crepe ../../Dataset/ChoralSingingDataset/{} --step-size 16\".format(tag))\n",
    "#the --no-centering flag isn't appropriate!\n"
   ]
  },
  {
   "attachments": {},
   "cell_type": "markdown",
   "metadata": {},
   "source": [
    "### Crepe CSV to npy"
   ]
  },
  {
   "cell_type": "code",
   "execution_count": 1,
   "metadata": {},
   "outputs": [],
   "source": [
    "import csv\n",
    "import glob\n",
    "import os\n",
    "\n",
    "import numpy as np"
   ]
  },
  {
   "cell_type": "code",
   "execution_count": 4,
   "metadata": {},
   "outputs": [],
   "source": [
    "path_to_dataset = '../Datasets/CantoriaDataset/'\n",
    "# songs = ['CEA', 'EJB1']\n",
    "songs = ['EJB2']"
   ]
  },
  {
   "cell_type": "code",
   "execution_count": 5,
   "metadata": {},
   "outputs": [
    {
     "name": "stdout",
     "output_type": "stream",
     "text": [
      "../Datasets/CantoriaDataset/EJB2/audio_16kHz/Cantoria_EJB2_a.f0.csv\n",
      "../Datasets/CantoriaDataset/EJB2/audio_16kHz/Cantoria_EJB2_b.f0.csv\n",
      "../Datasets/CantoriaDataset/EJB2/audio_16kHz/Cantoria_EJB2_s.f0.csv\n",
      "../Datasets/CantoriaDataset/EJB2/audio_16kHz/Cantoria_EJB2_t.f0.csv\n"
     ]
    }
   ],
   "source": [
    "for i, song in enumerate(songs):\n",
    "    path_to_f0_csv_files = os.path.join(path_to_dataset, song, 'audio_16kHz')\n",
    "    path_to_save_f0_estimate_tensors = os.path.join(path_to_dataset, song, 'crepe_f0_center')\n",
    "\n",
    "    # make directory to save processed f0 estimates as torch tensor\n",
    "    if not os.path.isdir(path_to_save_f0_estimate_tensors):\n",
    "        os.makedirs(path_to_save_f0_estimate_tensors, exist_ok=True)\n",
    "        \n",
    "    f0_csv_files = sorted(list(glob.glob(path_to_f0_csv_files + '/*.csv')))\n",
    "    \n",
    "    for f0_csv_file in f0_csv_files:\n",
    "        print(f0_csv_file)\n",
    "        time = []\n",
    "        confidence = []\n",
    "        frequency = []\n",
    "        with open(f0_csv_file, newline='') as csv_file:\n",
    "            reader = csv.reader(csv_file, delimiter=',', quotechar='|')\n",
    "            for i, row in enumerate(reader):\n",
    "                if i == 0:\n",
    "                    pass\n",
    "                else:\n",
    "                    time.append(float(row[0]))\n",
    "                    frequency.append(float(row[1]))\n",
    "                    confidence.append(float(row[2]))\n",
    "            np.save(path_to_save_f0_estimate_tensors + '/' + f0_csv_file.split('/')[-1].split('.')[0] + '_time.npy', np.array(time, dtype=np.float32))\n",
    "            np.save(path_to_save_f0_estimate_tensors + '/' + f0_csv_file.split('/')[-1].split('.')[0] + '_frequency.npy', np.array(frequency, dtype=np.float32))\n",
    "            np.save(path_to_save_f0_estimate_tensors + '/' + f0_csv_file.split('/')[-1].split('.')[0] + '_confidence.npy', np.array(confidence, dtype=np.float32))\n",
    "                "
   ]
  },
  {
   "attachments": {},
   "cell_type": "markdown",
   "metadata": {},
   "source": [
    "### Test crepe"
   ]
  },
  {
   "cell_type": "code",
   "execution_count": 4,
   "metadata": {},
   "outputs": [],
   "source": [
    "a = np.load('/home/ids/chouteau/umss/Datasets/BC/crepe_f0_center/1_BC001_part1_a_1ch_frequency.npy')"
   ]
  },
  {
   "cell_type": "code",
   "execution_count": 5,
   "metadata": {},
   "outputs": [
    {
     "data": {
      "text/plain": [
       "array([176.82805402, 177.94420967, 178.0085828 , 180.92943831,\n",
       "       181.05844143, 179.60595338, 181.79830816, 181.62052161,\n",
       "       179.8551888 , 179.32959495, 179.63799004, 179.64458891,\n",
       "       180.94824929, 179.55151721, 179.33918164, 181.45143795,\n",
       "       181.43859484, 180.81884274, 181.34554979, 181.34843727,\n",
       "       181.0689747 , 181.10898356, 179.94340494, 180.72241046,\n",
       "       181.61295791, 179.86635724, 179.87435682, 179.42621775,\n",
       "       179.07466558, 180.05908422, 179.62104753, 179.83757347,\n",
       "       180.30342197, 180.30027076, 180.72707391, 180.67133401,\n",
       "       178.07505514, 179.57432196, 180.98316858, 180.83093495,\n",
       "       180.54061869, 180.52777572, 179.5643723 , 180.67031125,\n",
       "       181.56635629, 181.24303113, 180.72122146, 181.02844507,\n",
       "       179.69340202, 180.40263672, 180.38038851, 180.99380433,\n",
       "       181.20675896, 180.24950457, 180.05252458, 180.62191976,\n",
       "       180.40882919, 180.38172267, 180.29223306, 180.05156469,\n",
       "       181.20433036, 180.13087639, 179.99497738, 179.97554221,\n",
       "       178.83179876, 178.43256936, 179.88404396, 180.57744561,\n",
       "       179.65440106, 180.39551874, 180.13377748, 179.89819661,\n",
       "       180.21131432, 179.38249348, 180.36264625, 180.00396342,\n",
       "       180.6432165 , 180.75652459, 180.19872288, 199.62574866,\n",
       "       228.75959155, 249.49058395, 290.08621949, 313.47114021,\n",
       "       363.52542995, 368.49729071, 369.4219183 , 370.73847723,\n",
       "       374.09903775, 373.99291845, 370.2812017 , 366.9409183 ,\n",
       "       364.96565629, 361.70580227, 359.89331298, 362.81931145,\n",
       "       366.58616744, 366.98770507, 368.08968872, 368.57687254,\n",
       "       367.505241  , 366.02657836, 365.41096621, 365.47905123,\n",
       "       365.30069819, 364.70488198, 364.63844395, 365.69451523,\n",
       "       367.13795674, 367.17841031, 364.64627391, 361.90244972,\n",
       "       360.99180316, 363.73841196, 367.81196118, 371.20770955,\n",
       "       371.96987016, 370.91187963, 371.0690863 , 370.44608175,\n",
       "       369.54331331, 369.61246056, 370.42411313, 371.24698909,\n",
       "       372.77521646, 372.85100277, 372.48165001, 373.85445677,\n",
       "       374.01423484, 373.92867842, 388.10019858, 396.64756643,\n",
       "       371.56509825, 396.63376679, 394.0406325 , 392.86732252,\n",
       "       392.79527033, 390.17040402, 388.60961969, 389.52414688,\n",
       "       387.46311595, 386.50771015, 383.91651502, 382.58585896,\n",
       "       380.61552891, 386.31532571, 391.12182441, 392.8477535 ,\n",
       "       396.77853909, 397.99825595, 399.16401354, 401.19707016,\n",
       "       394.19507138, 385.24515564, 378.94959917, 370.11824378,\n",
       "       367.84762823, 372.80048547, 384.43685321, 400.96149384,\n",
       "       409.70483786, 407.5047924 , 398.32721772, 384.83452662,\n",
       "       380.7230532 , 381.34059703, 389.54104639, 388.83798566,\n",
       "       385.44334919, 376.24312117, 378.24870531, 386.00576243,\n",
       "       385.11165104, 381.70922491, 396.17590368, 392.39422081,\n",
       "       392.11838603, 383.20010133, 350.98232276, 299.94856948,\n",
       "       272.33610084, 277.96536393, 279.73180678, 280.23484741,\n",
       "       281.79872904, 283.69893996, 283.49156005, 285.02627009,\n",
       "       286.20222213, 287.31873878, 287.21794262, 286.75623992,\n",
       "       287.56785181, 288.64768505, 289.86862497, 290.2116457 ,\n",
       "       290.87728049, 292.06106437, 292.5659223 , 292.33397992,\n",
       "       291.09535193, 290.50678861, 292.16422423, 307.43151281,\n",
       "       329.40121109, 333.98669309, 336.79165291, 330.51957607,\n",
       "       327.70492219, 327.38501971, 327.04748126, 323.29855706,\n",
       "       324.04006436, 320.99007735, 320.43597167, 319.38029406,\n",
       "       320.74465927, 322.48336792, 324.247512  , 326.20526943,\n",
       "       328.83801078, 329.95543783, 329.96449353, 328.85946656,\n",
       "       324.60141903, 316.64631563, 318.33427966, 325.21666049,\n",
       "       343.48925416, 376.39440693, 379.26433107, 373.42564875,\n",
       "       368.04542087, 362.53542698, 359.66053748, 360.98258493,\n",
       "       366.32334185, 366.66553243, 366.11655569, 364.71362287,\n",
       "       363.04591959, 363.54917096, 364.70478863, 368.35608885,\n",
       "       372.57035468, 374.63371557, 371.6709879 , 370.48439894,\n",
       "       368.94402447, 368.45151335, 365.73718416, 362.39560393,\n",
       "       359.56830878, 361.02191824, 367.24625212, 372.77361741,\n",
       "       377.37512718, 384.32799627, 385.56996476, 381.96542652,\n",
       "       373.36566667, 369.75839174, 372.23299501, 374.3218255 ,\n",
       "       370.83527205, 373.4829804 , 367.72787624, 366.27673586,\n",
       "       377.11086392, 367.50783759, 367.29624544, 367.31545639,\n",
       "       366.95037833, 368.62695077, 366.0035628 , 321.18899314,\n",
       "       285.32039095, 253.67117674, 253.38057757, 252.23025183,\n",
       "       257.15534514, 262.03053061, 265.6775272 , 268.72588774,\n",
       "       271.72832295, 273.0232132 , 273.11526535, 274.02543613,\n",
       "       275.56808241, 275.92458231, 275.48965969, 274.85635747,\n",
       "       273.99788616, 272.70911055, 271.63847787, 270.88730203,\n",
       "       271.12494069, 272.42236747, 273.06666536, 272.94549437,\n",
       "       272.83898947, 272.4988719 , 272.13529324, 271.89629072,\n",
       "       271.40128326, 271.2218655 , 271.84320131, 272.99534628,\n",
       "       274.17603656, 274.43659347, 273.96440085, 272.867615  ,\n",
       "       269.76274227, 272.24883656, 272.71162299, 272.62847291,\n",
       "       271.91520881, 272.15362186, 271.18397076, 272.51308242,\n",
       "       295.19293278, 336.32413793, 379.78859667, 373.22020719,\n",
       "       367.68240319, 363.50886092, 361.6641456 , 365.356907  ,\n",
       "       370.03011586, 371.5144168 , 371.28082315, 371.88232556,\n",
       "       371.18788498, 370.36395005, 369.63799484, 368.99479443,\n",
       "       368.24067171, 367.88006284, 368.12876212, 369.14232112,\n",
       "       368.32923096, 366.90463849, 366.82325432, 366.19016322,\n",
       "       366.55727563, 367.18344805, 366.40580021, 365.59045255,\n",
       "       365.89869313, 365.84312292, 365.0296887 , 365.32692885,\n",
       "       367.08597364, 368.98144388, 369.80108121, 370.69028148,\n",
       "       371.31694971, 372.5491712 , 372.39760194, 372.32726634,\n",
       "       369.09072828, 360.16481565, 370.26383194, 368.29615601,\n",
       "       367.55040915, 368.79043088, 367.90442268, 368.20917443,\n",
       "       369.44013455, 369.50645019, 368.38448683, 369.62774013,\n",
       "       373.92498565, 374.99706111, 373.31168765, 369.7544681 ,\n",
       "       365.37038537, 363.22450766, 364.40567247, 367.44597014,\n",
       "       367.79525751, 368.51316503, 369.15391783, 370.22019218,\n",
       "       371.87365525, 371.43204083, 369.54663934, 369.10449992,\n",
       "       369.02287084, 368.53084363, 368.89843302, 370.29512581,\n",
       "       369.82658753, 367.50010549, 364.50367937, 363.18945958,\n",
       "       365.61047406, 368.42094369, 370.70106049, 372.94235531,\n",
       "       373.96936278, 370.76101701, 366.97481515, 363.20141575,\n",
       "       364.39473572, 368.36512732, 369.99459105, 370.79963166,\n",
       "       372.69512655, 368.22087323, 368.03721249, 370.36864274,\n",
       "       370.4411473 , 370.8372766 , 369.60071219, 368.99059345,\n",
       "       366.55215009, 365.03160018, 365.46000889, 364.59495235,\n",
       "       364.31352044, 365.19453194, 364.87904125, 364.4148021 ,\n",
       "       364.37208358, 364.57867901, 364.49978464, 365.15471333,\n",
       "       366.27906926, 368.52556252, 370.35429651, 368.09410615,\n",
       "       365.19067914, 363.95371066, 363.7636188 , 363.96333655,\n",
       "       362.67920711, 361.1160962 , 359.65339939, 360.61981177,\n",
       "       363.55328852, 364.58972349, 365.14720212, 366.20069379,\n",
       "       366.71273395, 367.59731079, 367.63649287, 366.04104954,\n",
       "       360.92955362, 365.127177  , 367.59867023, 366.04074074,\n",
       "       363.66410388, 364.62019309, 366.57471374, 364.33591564,\n",
       "       363.84633893, 364.13351202, 364.81900256, 363.62588544,\n",
       "       363.54254675, 365.29387838, 366.25612412, 366.75651989,\n",
       "       366.34502024, 365.67135808, 364.46309637, 365.00413455,\n",
       "       366.55194915, 367.55792092, 366.78273515, 364.83188484,\n",
       "       364.34909311, 365.21849652, 366.33001605, 366.60291627,\n",
       "       365.48350795, 363.54029087, 361.89904886, 360.84938731,\n",
       "       360.01454736, 361.33437495, 362.65967212, 363.58704844,\n",
       "       364.84821144, 365.60419782, 367.12334256, 367.38910919,\n",
       "       366.99829219, 367.56336869, 367.86455946, 367.65938651,\n",
       "       366.84748905, 366.26369972, 365.48636543, 365.05471513,\n",
       "       366.05650504, 367.44161029, 369.30644938, 371.93701461,\n",
       "       371.30205572, 368.31477145, 366.99519937, 367.79715564,\n",
       "       367.55973544, 368.07597406, 371.46077825, 372.43704006,\n",
       "       372.99157329, 374.22526752, 371.68500765, 372.21247448,\n",
       "       371.16641977, 369.67967246, 370.23679845, 370.2249182 ,\n",
       "       368.5767307 , 368.09274797, 366.3307225 , 364.7560449 ,\n",
       "       364.56006365, 364.41906382, 363.89633601, 364.95543463,\n",
       "       366.44507854, 367.11485261, 367.40613247, 369.11493638,\n",
       "       370.53329028, 368.15864309, 364.31837714, 361.05733666,\n",
       "       359.21098757, 357.05895958, 357.55059785, 358.625782  ,\n",
       "       363.40100584, 369.22048281, 374.78938277, 377.77731002,\n",
       "       381.71319088, 378.78183553, 373.55269559, 366.85315962,\n",
       "       357.67631049, 348.51095898, 344.93301543, 351.16681849,\n",
       "       359.30660878, 368.58871816, 375.42401239, 376.01386316,\n",
       "       375.9071888 , 370.31222523, 364.96281045, 361.38256463,\n",
       "       352.16400116, 353.99747128, 355.93816127, 362.0725186 ,\n",
       "       370.67796589, 371.75451588, 375.92091479, 374.59521504,\n",
       "       370.47108217, 366.66669771, 362.82703809, 357.32531697,\n",
       "       352.31003345, 354.97364427, 358.16434799, 363.45635433,\n",
       "       368.56434708, 372.43978345, 373.26259787, 372.45232073,\n",
       "       369.66859794, 366.085759  , 359.83747796, 354.03147139,\n",
       "       352.25848574, 353.50658572, 354.29025562, 355.61508527,\n",
       "       366.63725768, 372.06865001, 374.85948547, 371.99915041,\n",
       "       366.66775855, 361.43008069, 352.27255218, 350.07961288,\n",
       "       353.02578953, 357.33775509, 364.10342267, 372.95277125,\n",
       "       376.41682493, 375.60498718, 372.13122069, 368.69639042,\n",
       "       365.12980863, 364.73552294, 361.65944322, 364.42610423,\n",
       "       365.50422703, 367.17520033, 364.7651091 , 357.69616762,\n",
       "       364.56883448, 363.47187235, 365.82086996, 364.76605737,\n",
       "       367.70491199, 372.18299969, 364.28292858, 366.50337767,\n",
       "       370.71413343, 370.41534999, 371.16419397, 371.564849  ,\n",
       "       368.95398081, 366.14519508, 364.76968243, 365.75196764,\n",
       "       366.59069326, 366.56025189])"
      ]
     },
     "execution_count": 5,
     "metadata": {},
     "output_type": "execute_result"
    }
   ],
   "source": [
    "a"
   ]
  },
  {
   "cell_type": "code",
   "execution_count": 14,
   "metadata": {},
   "outputs": [],
   "source": [
    "b = np.load('/home/ids/chouteau/umss/Datasets/ChoralSingingDataset/El_Rossinyol/crepe_f0_center/rossinyol_ContraAlt_2-06_time.npy')"
   ]
  },
  {
   "cell_type": "code",
   "execution_count": 15,
   "metadata": {},
   "outputs": [
    {
     "data": {
      "text/plain": [
       "array([0.00000e+00, 1.60000e-02, 3.20000e-02, ..., 1.35328e+02,\n",
       "       1.35344e+02, 1.35360e+02], dtype=float32)"
      ]
     },
     "execution_count": 15,
     "metadata": {},
     "output_type": "execute_result"
    }
   ],
   "source": [
    "b"
   ]
  },
  {
   "attachments": {},
   "cell_type": "markdown",
   "metadata": {},
   "source": [
    "### Crepe process for BC, BQ dataset"
   ]
  },
  {
   "cell_type": "code",
   "execution_count": 1,
   "metadata": {},
   "outputs": [],
   "source": [
    "import os\n",
    "import glob\n",
    "import csv\n",
    "import numpy as np\n",
    "\n",
    "path_to_dataset = '../Datasets/CantoriaDataset/Full_Audio'\n",
    "# path_to_dataset = '../Datasets/BC'"
   ]
  },
  {
   "cell_type": "code",
   "execution_count": 2,
   "metadata": {},
   "outputs": [
    {
     "name": "stdout",
     "output_type": "stream",
     "text": [
      "../Datasets/CantoriaDataset/Full_Audio/audio_16kHz/Cantoria_CEA_a.f0.csv\n",
      "../Datasets/CantoriaDataset/Full_Audio/audio_16kHz/Cantoria_CEA_b.f0.csv\n",
      "../Datasets/CantoriaDataset/Full_Audio/audio_16kHz/Cantoria_CEA_s.f0.csv\n",
      "../Datasets/CantoriaDataset/Full_Audio/audio_16kHz/Cantoria_CEA_t.f0.csv\n",
      "../Datasets/CantoriaDataset/Full_Audio/audio_16kHz/Cantoria_EJB1_a.f0.csv\n",
      "../Datasets/CantoriaDataset/Full_Audio/audio_16kHz/Cantoria_EJB1_b.f0.csv\n",
      "../Datasets/CantoriaDataset/Full_Audio/audio_16kHz/Cantoria_EJB1_s.f0.csv\n",
      "../Datasets/CantoriaDataset/Full_Audio/audio_16kHz/Cantoria_EJB1_t.f0.csv\n",
      "../Datasets/CantoriaDataset/Full_Audio/audio_16kHz/Cantoria_EJB2_a.f0.csv\n",
      "../Datasets/CantoriaDataset/Full_Audio/audio_16kHz/Cantoria_EJB2_b.f0.csv\n",
      "../Datasets/CantoriaDataset/Full_Audio/audio_16kHz/Cantoria_EJB2_s.f0.csv\n",
      "../Datasets/CantoriaDataset/Full_Audio/audio_16kHz/Cantoria_EJB2_t.f0.csv\n",
      "../Datasets/CantoriaDataset/Full_Audio/audio_16kHz/Cantoria_HCB_a.f0.csv\n",
      "../Datasets/CantoriaDataset/Full_Audio/audio_16kHz/Cantoria_HCB_b.f0.csv\n",
      "../Datasets/CantoriaDataset/Full_Audio/audio_16kHz/Cantoria_HCB_s.f0.csv\n",
      "../Datasets/CantoriaDataset/Full_Audio/audio_16kHz/Cantoria_HCB_t.f0.csv\n",
      "../Datasets/CantoriaDataset/Full_Audio/audio_16kHz/Cantoria_LBM1_a.f0.csv\n",
      "../Datasets/CantoriaDataset/Full_Audio/audio_16kHz/Cantoria_LBM1_b.f0.csv\n",
      "../Datasets/CantoriaDataset/Full_Audio/audio_16kHz/Cantoria_LBM1_s.f0.csv\n",
      "../Datasets/CantoriaDataset/Full_Audio/audio_16kHz/Cantoria_LBM1_t.f0.csv\n",
      "../Datasets/CantoriaDataset/Full_Audio/audio_16kHz/Cantoria_LBM2_a.f0.csv\n",
      "../Datasets/CantoriaDataset/Full_Audio/audio_16kHz/Cantoria_LBM2_b.f0.csv\n",
      "../Datasets/CantoriaDataset/Full_Audio/audio_16kHz/Cantoria_LBM2_s.f0.csv\n",
      "../Datasets/CantoriaDataset/Full_Audio/audio_16kHz/Cantoria_LBM2_t.f0.csv\n",
      "../Datasets/CantoriaDataset/Full_Audio/audio_16kHz/Cantoria_LJT1_a.f0.csv\n",
      "../Datasets/CantoriaDataset/Full_Audio/audio_16kHz/Cantoria_LJT1_b.f0.csv\n",
      "../Datasets/CantoriaDataset/Full_Audio/audio_16kHz/Cantoria_LJT1_s.f0.csv\n",
      "../Datasets/CantoriaDataset/Full_Audio/audio_16kHz/Cantoria_LJT1_t.f0.csv\n",
      "../Datasets/CantoriaDataset/Full_Audio/audio_16kHz/Cantoria_LJT2_a.f0.csv\n",
      "../Datasets/CantoriaDataset/Full_Audio/audio_16kHz/Cantoria_LJT2_b.f0.csv\n",
      "../Datasets/CantoriaDataset/Full_Audio/audio_16kHz/Cantoria_LJT2_s.f0.csv\n",
      "../Datasets/CantoriaDataset/Full_Audio/audio_16kHz/Cantoria_LJT2_t.f0.csv\n",
      "../Datasets/CantoriaDataset/Full_Audio/audio_16kHz/Cantoria_LNG_a.f0.csv\n",
      "../Datasets/CantoriaDataset/Full_Audio/audio_16kHz/Cantoria_LNG_b.f0.csv\n",
      "../Datasets/CantoriaDataset/Full_Audio/audio_16kHz/Cantoria_LNG_s.f0.csv\n",
      "../Datasets/CantoriaDataset/Full_Audio/audio_16kHz/Cantoria_LNG_t.f0.csv\n",
      "../Datasets/CantoriaDataset/Full_Audio/audio_16kHz/Cantoria_RRC_a.f0.csv\n",
      "../Datasets/CantoriaDataset/Full_Audio/audio_16kHz/Cantoria_RRC_b.f0.csv\n",
      "../Datasets/CantoriaDataset/Full_Audio/audio_16kHz/Cantoria_RRC_s.f0.csv\n",
      "../Datasets/CantoriaDataset/Full_Audio/audio_16kHz/Cantoria_RRC_t.f0.csv\n",
      "../Datasets/CantoriaDataset/Full_Audio/audio_16kHz/Cantoria_SSS_a.f0.csv\n",
      "../Datasets/CantoriaDataset/Full_Audio/audio_16kHz/Cantoria_SSS_b.f0.csv\n",
      "../Datasets/CantoriaDataset/Full_Audio/audio_16kHz/Cantoria_SSS_s.f0.csv\n",
      "../Datasets/CantoriaDataset/Full_Audio/audio_16kHz/Cantoria_SSS_t.f0.csv\n",
      "../Datasets/CantoriaDataset/Full_Audio/audio_16kHz/Cantoria_THM_a.f0.csv\n",
      "../Datasets/CantoriaDataset/Full_Audio/audio_16kHz/Cantoria_THM_b.f0.csv\n",
      "../Datasets/CantoriaDataset/Full_Audio/audio_16kHz/Cantoria_THM_s.f0.csv\n",
      "../Datasets/CantoriaDataset/Full_Audio/audio_16kHz/Cantoria_THM_t.f0.csv\n",
      "../Datasets/CantoriaDataset/Full_Audio/audio_16kHz/Cantoria_VBP_a.f0.csv\n",
      "../Datasets/CantoriaDataset/Full_Audio/audio_16kHz/Cantoria_VBP_b.f0.csv\n",
      "../Datasets/CantoriaDataset/Full_Audio/audio_16kHz/Cantoria_VBP_s.f0.csv\n",
      "../Datasets/CantoriaDataset/Full_Audio/audio_16kHz/Cantoria_VBP_t.f0.csv\n",
      "../Datasets/CantoriaDataset/Full_Audio/audio_16kHz/Cantoria_YSM_a.f0.csv\n",
      "../Datasets/CantoriaDataset/Full_Audio/audio_16kHz/Cantoria_YSM_b.f0.csv\n",
      "../Datasets/CantoriaDataset/Full_Audio/audio_16kHz/Cantoria_YSM_s.f0.csv\n",
      "../Datasets/CantoriaDataset/Full_Audio/audio_16kHz/Cantoria_YSM_t.f0.csv\n"
     ]
    }
   ],
   "source": [
    "path_to_f0_csv_files = os.path.join(path_to_dataset, 'audio_16kHz')\n",
    "path_to_save_f0_estimate_tensors = os.path.join(path_to_dataset, 'crepe_f0_center')\n",
    "\n",
    "# make directory to save processed f0 estimates as torch tensor\n",
    "if not os.path.isdir(path_to_save_f0_estimate_tensors):\n",
    "    os.makedirs(path_to_save_f0_estimate_tensors, exist_ok=True)\n",
    "    \n",
    "f0_csv_files = sorted(list(glob.glob(path_to_f0_csv_files + '/*.csv')))\n",
    "\n",
    "for f0_csv_file in f0_csv_files:\n",
    "    print(f0_csv_file)\n",
    "    time = []\n",
    "    confidence = []\n",
    "    frequency = []\n",
    "    with open(f0_csv_file, newline='') as csv_file:\n",
    "        reader = csv.reader(csv_file, delimiter=',', quotechar='|')\n",
    "        for i, row in enumerate(reader):\n",
    "            if i == 0:\n",
    "                pass\n",
    "            else:\n",
    "                time.append(float(row[0]))\n",
    "                frequency.append(float(row[1]))\n",
    "                confidence.append(float(row[2]))\n",
    "        np.save(path_to_save_f0_estimate_tensors + '/' + f0_csv_file.split('/')[-1].split('.')[0] + '_time.npy', np.array(time, dtype=np.float32))\n",
    "        np.save(path_to_save_f0_estimate_tensors + '/' + f0_csv_file.split('/')[-1].split('.')[0] + '_frequency.npy', np.array(frequency, dtype=np.float32))\n",
    "        np.save(path_to_save_f0_estimate_tensors + '/' + f0_csv_file.split('/')[-1].split('.')[0] + '_confidence.npy', np.array(confidence, dtype=np.float32))\n",
    "                "
   ]
  },
  {
   "cell_type": "code",
   "execution_count": 2,
   "metadata": {},
   "outputs": [],
   "source": [
    "test = np.load('/home/ids/chouteau/umss_assigner/Datasets/CantoriaDataset/CEA/crepe_f0_center/Cantoria_CEA_a_confidence.npy')"
   ]
  },
  {
   "cell_type": "code",
   "execution_count": 10,
   "metadata": {},
   "outputs": [],
   "source": [
    "for i in test:\n",
    "    if np.isnan(i):\n",
    "        print(i)"
   ]
  },
  {
   "cell_type": "code",
   "execution_count": null,
   "metadata": {},
   "outputs": [],
   "source": []
  }
 ],
 "metadata": {
  "kernelspec": {
   "display_name": "umss",
   "language": "python",
   "name": "python3"
  },
  "language_info": {
   "codemirror_mode": {
    "name": "ipython",
    "version": 3
   },
   "file_extension": ".py",
   "mimetype": "text/x-python",
   "name": "python",
   "nbconvert_exporter": "python",
   "pygments_lexer": "ipython3",
   "version": "3.8.16"
  },
  "orig_nbformat": 4
 },
 "nbformat": 4,
 "nbformat_minor": 2
}
